{
  "nbformat": 4,
  "nbformat_minor": 0,
  "metadata": {
    "colab": {
      "name": "python-pandas-ml-template.ipynb",
      "provenance": [],
      "authorship_tag": "ABX9TyOjNoTTFPjRYK38P+yyfEzr",
      "include_colab_link": true
    },
    "kernelspec": {
      "name": "python3",
      "display_name": "Python 3"
    },
    "language_info": {
      "name": "python"
    }
  },
  "cells": [
    {
      "cell_type": "markdown",
      "metadata": {
        "id": "view-in-github",
        "colab_type": "text"
      },
      "source": [
        "<a href=\"https://colab.research.google.com/github/kwaldenphd/pandas-machine-learning-intro/blob/main/python_pandas_ml_template.ipynb\" target=\"_parent\"><img src=\"https://colab.research.google.com/assets/colab-badge.svg\" alt=\"Open In Colab\"/></a>"
      ]
    },
    {
      "cell_type": "markdown",
      "source": [
        "# Getting Started With Pandas (for machine learning)\n",
        "\n",
        "Student name(s): **Enter your name here** (double click to edit)"
      ],
      "metadata": {
        "id": "cCPjTHZS4udx"
      }
    },
    {
      "cell_type": "markdown",
      "source": [
        "## Lab Notebook Questions"
      ],
      "metadata": {
        "id": "YMLv_23-ZQ56"
      }
    },
    {
      "cell_type": "markdown",
      "source": [
        "### **Q1: Describe a DataFrame in your own words.**"
      ],
      "metadata": {
        "id": "TU8VdOenZTLj"
      }
    },
    {
      "cell_type": "markdown",
      "source": [
        "**Answer Q1:** Your answer here (double click to edit)\n",
        "\n"
      ],
      "metadata": {
        "id": "ZRftVHWIWMrC"
      }
    },
    {
      "cell_type": "code",
      "source": [
        "# space for Q1 code (if needed, double click to edit)"
      ],
      "metadata": {
        "id": "dVk8oZzhXy4f"
      },
      "execution_count": null,
      "outputs": []
    },
    {
      "cell_type": "markdown",
      "source": [
        "### <strong>Q2: Create your own small DataFrame. Write code that accomplishes the following tasks. Include code + comments.\n",
        "- Change the original column order\n",
        "- Select a specific column(s) using its index label or name attribute\n",
        "- Select a specific row(s) using its index label or index value\n",
        "- Remove a column from the DataFrame\n",
        "- Determine summary statistics for values in the DataFrame</strong>"
      ],
      "metadata": {
        "id": "wi8wDdoK5Lny"
      }
    },
    {
      "cell_type": "markdown",
      "source": [
        "**Answer Q2:** Your answer here (double click to edit)\n",
        "\n"
      ],
      "metadata": {
        "id": "WOQNw6gR5PYA"
      }
    },
    {
      "cell_type": "code",
      "source": [
        "# space for Q2 code (double click to edit)"
      ],
      "metadata": {
        "id": "A7mqUC6Q5R6Z"
      },
      "execution_count": null,
      "outputs": []
    },
    {
      "cell_type": "markdown",
      "source": [
        "### <strong>Q3: Write code that loads in a different data file as a DataFrame and accomplishes each of the following tasks. Include code + comments.\n",
        "- Shows the first five rows\n",
        "- Shows the last five rows\n",
        "- Checks the data types for each column\n",
        "- Returns a technical summary for the DataFrame</strong>"
      ],
      "metadata": {
        "id": "XMLlo5eQ5Vs0"
      }
    },
    {
      "cell_type": "markdown",
      "source": [
        "**Answer Q3:** Your answer here (double click to edit)\n",
        "\n"
      ],
      "metadata": {
        "id": "50Tj8PK05WZk"
      }
    },
    {
      "cell_type": "code",
      "source": [
        "# space for Q3 code (double click to edit)"
      ],
      "metadata": {
        "id": "UM0e2ArC5XOO"
      },
      "execution_count": null,
      "outputs": []
    },
    {
      "cell_type": "markdown",
      "source": [
        "### <strong>Q4: Using the DataFrame you created for Q3, write code that executes AT LEAST FOUR of the following tasks. Include code + comments.\n",
        "- Sorts a column by ascending values\n",
        "- Sorts a column by descending values\n",
        "- Selects a specific column in the DataFrame\n",
        "- Creates a new DataFrame with select columns from existing DataFrame\n",
        "- Uses a comparison operator to filter rows in the DataFrame\n",
        "- Uses an isin statement to filter rows in the DataFrame\n",
        "- Selects specific rows and columns\n",
        "- Removes duplicate rows</strong>"
      ],
      "metadata": {
        "id": "iaqOqUUk5fUo"
      }
    },
    {
      "cell_type": "markdown",
      "source": [
        "**Answer Q4:** Your answer here (double click to edit)\n",
        "\n"
      ],
      "metadata": {
        "id": "nKgHLXGG5f6u"
      }
    },
    {
      "cell_type": "code",
      "source": [
        "# space for Q4 code (double click to edit)"
      ],
      "metadata": {
        "id": "BYRd09Sc5gaf"
      },
      "execution_count": null,
      "outputs": []
    },
    {
      "cell_type": "markdown",
      "source": [
        "### **Q5: Using the titanic dataset (or another dataset), write code that calculates at least 3 unique summary statistics (.agg() counts as one). Include code + comments for each.**"
      ],
      "metadata": {
        "id": "rSBBTMKK5pnn"
      }
    },
    {
      "cell_type": "markdown",
      "source": [
        "**Answer Q5:** Your answer here (double click to edit)"
      ],
      "metadata": {
        "id": "7r2gSavDYR4j"
      }
    },
    {
      "cell_type": "code",
      "source": [
        "# space for Q5 code (double click to edit)"
      ],
      "metadata": {
        "id": "k7QAuLOt53Tm"
      },
      "execution_count": null,
      "outputs": []
    },
    {
      "cell_type": "markdown",
      "source": [
        "### **Q6: Describe element-wise calculation in your own words.**"
      ],
      "metadata": {
        "id": "qLJ4OUvWaywX"
      }
    },
    {
      "cell_type": "markdown",
      "source": [
        "**Answer Q6:** Your answer here (double click to edit)"
      ],
      "metadata": {
        "id": "HV-7njeKaz-h"
      }
    },
    {
      "cell_type": "code",
      "source": [
        "# space for Q6 code (double click to edit)"
      ],
      "metadata": {
        "id": "aX_8vGfXa2kX"
      },
      "execution_count": null,
      "outputs": []
    },
    {
      "cell_type": "markdown",
      "source": [
        "### **Q7: Using the air quality data or another dataset, write code that generates a new column based on an existing column(s). Include code + comments**"
      ],
      "metadata": {
        "id": "qkbwkXmmay3y"
      }
    },
    {
      "cell_type": "markdown",
      "source": [
        "**Answer Q7:** Your answer here (double click to edit)"
      ],
      "metadata": {
        "id": "WNzX4uxZa0Pp"
      }
    },
    {
      "cell_type": "code",
      "source": [
        "# space for Q7 code (double click to edit)"
      ],
      "metadata": {
        "id": "9Dfu2iuma21I"
      },
      "execution_count": null,
      "outputs": []
    },
    {
      "cell_type": "markdown",
      "source": [
        "### **Q8: Describe in your own words the core components of a matplotlib figure. What is the general sequence of steps involved in generating a matplotlib figure?**"
      ],
      "metadata": {
        "id": "W7-eh2k2ax0k"
      }
    },
    {
      "cell_type": "markdown",
      "source": [
        "**Answer Q8:** Your answer here (double click to edit)"
      ],
      "metadata": {
        "id": "35KlYk7Mazx1"
      }
    },
    {
      "cell_type": "code",
      "source": [
        "# space for Q8 code (double click to edit)"
      ],
      "metadata": {
        "id": "ouT1jxA6a2NZ"
      },
      "execution_count": null,
      "outputs": []
    }
  ]
}