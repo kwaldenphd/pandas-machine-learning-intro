{
  "nbformat": 4,
  "nbformat_minor": 0,
  "metadata": {
    "colab": {
      "name": "python-pandas-intro-ml-procedure.ipynb",
      "provenance": [],
      "toc_visible": true,
      "authorship_tag": "ABX9TyMYMhVYAzfMucv6IQFBNQRl",
      "include_colab_link": true
    },
    "kernelspec": {
      "name": "python3",
      "display_name": "Python 3"
    },
    "language_info": {
      "name": "python"
    }
  },
  "cells": [
    {
      "cell_type": "markdown",
      "metadata": {
        "id": "view-in-github",
        "colab_type": "text"
      },
      "source": [
        "<a href=\"https://colab.research.google.com/github/kwaldenphd/pandas-machine-learning-intro/blob/main/python_pandas_intro_ml_procedure.ipynb\" target=\"_parent\"><img src=\"https://colab.research.google.com/assets/colab-badge.svg\" alt=\"Open In Colab\"/></a>"
      ]
    },
    {
      "cell_type": "markdown",
      "source": [
        "# Getting Started With Pandas (for machine learning)\n",
        "\n",
        "<a href=\"http://creativecommons.org/licenses/by-nc/4.0/\" rel=\"license\"><img style=\"border-width: 0;\" src=\"https://i.creativecommons.org/l/by-nc/4.0/88x31.png\" alt=\"Creative Commons License\" /></a>\n",
        "This tutorial is licensed under a <a href=\"http://creativecommons.org/licenses/by-nc/4.0/\" rel=\"license\">Creative Commons Attribution-NonCommercial 4.0 International License</a>.\n"
      ],
      "metadata": {
        "id": "aaecnZu7Ap-G"
      }
    },
    {
      "cell_type": "markdown",
      "source": [
        "## Lab Goals\n",
        "\n",
        "This lab covers the core components of `pandas`, with a focus on elements of `pandas` used in machine learning. It covers loading a structured data file (CSV and JSON) as a `DataFrame`, and sorting, selecting, and filtering the resulting `DataFrame`. The lab also covers common data parsing and wrangling challenges like duplicate entries and missing data. It covers the basic of data wrangling and manipulation in Python using `pandas`, as well as the fundamentals of creating plots in Python using `matplotlib`.\n",
        "\n",
        "[Link to lab overview video](https://notredame.hosted.panopto.com/Panopto/Pages/Viewer.aspx?id=cac767ea-fca5-472b-97ed-acd1012e9630) (Panopto, ND users)"
      ],
      "metadata": {
        "id": "S-JRd_vdArFk"
      }
    },
    {
      "cell_type": "markdown",
      "source": [
        "## Acknowledgements\n",
        "\n",
        "Information and exercises in this lab are adapted from the following resources:\n",
        "- `pandas` documentation\n",
        "  * [\"Getting started\"](https://pandas.pydata.org/pandas-docs/stable/getting_started/intro_tutorials/)\n",
        "  * [User Guide, \"Visualization\"](https://pandas.pydata.org/docs/user_guide/visualization.html)\n",
        "  * [Getting Started, \"Plotting\"](https://pandas.pydata.org/docs/getting_started/intro_tutorials/04_plotting.html)\n",
        "- Wes McKinney's [*Python for Data Analysis: Data Wrangling With pandas, Numpy, and IPython*](https://www.oreilly.com/library/view/python-for-data/9781491957653/) (O'Reilly, 2017)\n",
        "  * Chapter 5 \"Getting Started with pandas\" (125-168)\n",
        "  * Chapter 7 \"Data Cleaning and Preparation\" (195-224)\n",
        "  * Chapter 8 \"Data Wrangling: Join, Combine, and Reshape\" (225-256)\n",
        "  * Chapter 9 \"Plotting and Visualization\" (257-292)\n",
        "  * Chapter 10 \"Data Aggregation and Group Operations\" (293-322)\n",
        "- `matplotlib`, [\"Tutorials\"](https://matplotlib.org/tutorials/index.html)\n",
        "\n",
        "All figures shown in this lab are from the `pandas` \"Getting Started\" tutorials or the `matplotlib` documentation and tutorials."
      ],
      "metadata": {
        "id": "dkMkOvKNAsb8"
      }
    },
    {
      "cell_type": "markdown",
      "source": [
        "# Lab notebook template\n",
        "\n",
        "[Click here](https://colab.research.google.com/drive/1HPD6LuBSZjbyAZVwRMD-lBqwB2H3wwxM?usp=sharing) to access the lab notebook template as a Jupyter Notebook."
      ],
      "metadata": {
        "id": "yw2HdoqpAuWH"
      }
    },
    {
      "cell_type": "markdown",
      "source": [
        "# What do we mean by pandas\n",
        "\n",
        "1. Some of you may be wondering why we are talking about pandas in a computer science course.\n",
        "\n",
        "2. What is a panda?\n",
        "\n",
        "<p align=\"center\"><a href=\"https://github.com/kwaldenphd/pandas-intro/blob/main/Figure_2.png?raw=true\"><img class=\"aligncenter\" src=\"https://github.com/kwaldenphd/pandas-intro/blob/main/Figure_2.png?raw=true\" /></a></p>\n",
        "\n",
        "3. Panda: \"a large black-and-white mammal (Ailuropoda melanoleuca) of chiefly central China that feeds primarily on bamboo shoots and is now usually classified with the bears (family Ursidae)\" ([Merriam-Webster](https://www.merriam-webster.com/dictionary/panda))\n",
        "\n",
        "4. Wait that's not right....\n",
        "\n",
        "5. `pandas`: \"a fast, powerful, flexible and easy to use open source data analysis and manipulation tool, built on top of the Python programming language\" ([`pandas` documentation](https://pandas.pydata.org/))\n",
        "\n",
        "6. That makes more sense.\n",
        "\n",
        "7. If you remember back to our earlier work with `.csv` files in Python, there are limitations to the kinds of things we can do with structured data using the `csv` module.\n",
        "\n",
        "8. Particularly if we want to analyze and visualze structured data in a Python programming environment, we aren't going to get very far loading `.csv` files as lists or dictionaries.\n",
        "\n",
        "9. We need Python to understand or interact with structured data as structured data.\n",
        "\n",
        "10. Enter `pandas`.\n",
        "\n",
        "11. Software developers at AQR Capital Management began working on a Python-based tool (written in a combination of C and Python) for quantitative data analysis in 2008.\n",
        "\n",
        "12. The initial open-source version of `pandas` was released in 2008.\n",
        "\n",
        "13. At its core, \"`pandas` is a software library written for the Python programming language for data manipulation and analysis. In particular, it offers data structures and operations for manipulating numerical tables and time series\" ([Wikipedia](https://en.wikipedia.org/wiki/Pandas_(software)).\n",
        "\n",
        "14. The name `pandas` is derived from \"panel data,\" an econometrics term used to describe particular types of datasets.\n",
        "\n",
        "15. The name `pandas` is also a play on \"Python data analysis.\"\n",
        "\n",
        "16. For more on the history and origins of `pandas`, check out Wes McKinney's [\"pandas: a Foundational Python Library for Data Analysis and Statistics\"](https://www.dlr.de/sc/Portaldata/15/Resources/dokumente/pyhpc2011/submissions/pyhpc2011_submission_9.pdf) 2011 paper.\n",
        "\n",
        "17. `pandas` is based on and has some similarities with another Python package, `NumPy`.\n",
        "\n",
        "18. According to [package documentation](https://numpy.org/doc/stable/user/whatisnumpy.html), \"`NumPy` is the fundamental package for scientific computing in Python. It is a Python library that provides a multidimensional array object, various derived objects (such as masked arrays and matrices), and an assortment of routines for fast operations on arrays, including mathematical, logical, shape manipulation, sorting, selecting, I/O, discrete Fourier transforms, basic linear algebra, basic statistical operations, random simulation and much more.\"\n",
        "\n",
        "19. In `NumPy`, data are stored as list-like objects called arrays. \n",
        "\n",
        "20. `NumPy` allows users to access, split, reshape, join, etc. data stored in arrays.\n",
        "\n",
        "21. `pandas` takes a similar approach to structured data, or data organized in a tabular (i.e. table-like) format.\n",
        "\n",
        "22. \"pandas adopts significant parts of NumPy's idiomatic style of array-based computing, especially array-based functions and a preference for data processing without for loops...the biggest difference is that pandas is designed for working with tabular or heterogeneous data. NumPy, by contrast, is best suited for working with homogenous numerical array data\" (Wes McKinney, Chapter 5 \"Getting Started with Pandas\" in *Python for Data Analysis*, pg. 125)\n",
        "\n",
        "23. For more on `NumPy`:\n",
        "- [NumPy website](https://numpy.org/)\n",
        "- [NumPy documentation](https://numpy.org/doc/stable/)\n",
        "- [\"NumPy Introduction,\" W3Schools](https://www.w3schools.com/python/numpy_intro.asp)\n",
        "- [\"Introduction to NumPy Tutorial,\" Software Carpentry](https://software-carpentry.org/blog/2012/06/introduction-to-numpy-tutorial.html)"
      ],
      "metadata": {
        "id": "0KJvTwXbAwaS"
      }
    },
    {
      "cell_type": "markdown",
      "source": [
        "## `DataFrame`\n",
        "\n",
        "24. While a `Series` object is a one-dimensional array, a `DataFrame` includes a tabular data structure \"and contains an ordered collection of columns, each of which can be a different value type\" (McKinney, 130).\n",
        "\n",
        "25. A `pandas` `DataFrame` has a row and column index--we can think of these as Series that all share the same index.\n",
        "\n",
        "26. Behold, a two-dimensional data structure. \n",
        "\n",
        "27. In most situations, you'll create a `DataFrame` by reading in a structured data file.\n",
        "\n",
        "28. But we're going to manually create a `DataFrame` to better understand how they work in `pandas`.\n",
        "\n",
        "29. Let's go back to our state population data example.\n",
        "\n",
        "30. Say we have two dictionaries that include equal-length lists:"
      ],
      "metadata": {
        "id": "uNw7crHCAxv5"
      }
    },
    {
      "cell_type": "code",
      "source": [
        "# import pandas\n",
        "import pandas as pd\n",
        "\n",
        "# create dictionary with three equal-length lists\n",
        "data = {'state': ['Ohio', 'Ohio', 'Ohio', 'Nevada', 'Nevada', 'Nevada'], \n",
        "        'year': [2000, 2001, 2002, 2001, 2002, 2003],\n",
        "        'pop': [1.5, 1.7, 3.6, 2.4, 2.9, 3.2]}\n",
        "\n",
        "# write data dictionary values to data frame\n",
        "frame = pd.DataFrame(data)\n",
        "\n",
        "# show newly-created frame\n",
        "frame"
      ],
      "metadata": {
        "id": "upINFlR3AzCX"
      },
      "execution_count": null,
      "outputs": []
    },
    {
      "cell_type": "markdown",
      "source": [
        "31. Behold, a two-dimensional `DataFrame` object with rows, columns, labels, and values.\n",
        "\n",
        "32. The first object from each of the lists in our `data` dictionary now populate the first row of our `frame` DataFrame.\n",
        "\n",
        "33. This pattern continues for subsequent rows.\n",
        "\n",
        "34. We can start to explore the dimensions or overall characteristics of our DataFrame:"
      ],
      "metadata": {
        "id": "4GmQG5R0A0bL"
      }
    },
    {
      "cell_type": "code",
      "source": [
        "# shows index labels and values for first 5 rows\n",
        "frame.head(5)\n",
        "\n",
        "# shows list of column labels\n",
        "frame.columns.values\n",
        "\n",
        "# shows basic statistical information for the data frame\n",
        "frame.describe()"
      ],
      "metadata": {
        "id": "sWNi7IqEA1Yf"
      },
      "execution_count": null,
      "outputs": []
    },
    {
      "cell_type": "markdown",
      "source": [
        "36. The last command `.describe()` returns some statistical information about values in our dataset, including:\n",
        "- count\n",
        "- mean\n",
        "- standard deviation\n",
        "- minimum\n",
        "- 25th percentile\n",
        "- 50th percentile\n",
        "- 75th percentile\n",
        "- maximum\n",
        "\n",
        "37. Let's say we want to specify the column sequence or the order in which columns are arranged in the `DataFrame`:"
      ],
      "metadata": {
        "id": "llXpyYpAA2P6"
      }
    },
    {
      "cell_type": "code",
      "source": [
        "pd.DataFrame(data, columns=['year', 'state', 'pop'])"
      ],
      "metadata": {
        "id": "LwAxOYvjA3Gd"
      },
      "execution_count": null,
      "outputs": []
    },
    {
      "cell_type": "markdown",
      "source": [
        "38. What happens if we specify a column that isn't represented in the data passed to the `DataFrame`? "
      ],
      "metadata": {
        "id": "l1GEnpwkA4X5"
      }
    },
    {
      "cell_type": "code",
      "source": [
        "# create new dataframe from data dictionary with specific columns and index labels\n",
        "frame2 = pd.DataFrame(data, columns=['year', 'state', 'pop', 'debt'], index=['one', 'two', 'three', 'four', 'five', 'six'])\n",
        "\n",
        "# show frame2 DataFrame\n",
        "frame2"
      ],
      "metadata": {
        "id": "rZRvmlWbA5Zb"
      },
      "execution_count": null,
      "outputs": []
    },
    {
      "cell_type": "markdown",
      "source": [
        "39. We see only `NaN` missing values for the `debt` column since that column is not represented in the `data` dictionary used to create our `frame2` DataFrame.\n",
        "\n",
        "40. We can select columns in our `DataFrame` using their index labels."
      ],
      "metadata": {
        "id": "lbLn-l98A6k4"
      }
    },
    {
      "cell_type": "code",
      "source": [
        "# returns state column\n",
        "frame2['state']"
      ],
      "metadata": {
        "id": "BU7yVC9pA8g8"
      },
      "execution_count": null,
      "outputs": []
    },
    {
      "cell_type": "markdown",
      "source": [
        "41. We can also select a column using the `name` attribute."
      ],
      "metadata": {
        "id": "NRXGfhmLA9ja"
      }
    },
    {
      "cell_type": "code",
      "source": [
        "# returns year column\n",
        "frame2.year"
      ],
      "metadata": {
        "id": "RJHN1WNuA-nn"
      },
      "execution_count": null,
      "outputs": []
    },
    {
      "cell_type": "markdown",
      "source": [
        "42. We can retrieve rows based on their position using the `loc` (location) attribute."
      ],
      "metadata": {
        "id": "HFkOVysdA_l2"
      }
    },
    {
      "cell_type": "code",
      "source": [
        "# returns third row in the dataframe\n",
        "frame2.loc['three']"
      ],
      "metadata": {
        "id": "mpwm0TzNBAgW"
      },
      "execution_count": null,
      "outputs": []
    },
    {
      "cell_type": "code",
      "source": [
        "# uses numerical index values to retrieve first four rows\n",
        "frame2.iloc[0:3, :]"
      ],
      "metadata": {
        "id": "kIh-fYphBBZy"
      },
      "execution_count": null,
      "outputs": []
    },
    {
      "cell_type": "markdown",
      "source": [
        "43. Let's say we wanted to manually assign the values in a particular column, for example the `debt` missing data column."
      ],
      "metadata": {
        "id": "L-YnaRmbBCeM"
      }
    },
    {
      "cell_type": "code",
      "source": [
        "# returns frame2 DataFrame with newly-assigned 16.5 value for all rows in debt column\n",
        "frame2['debt'] = 16.5\n",
        "\n",
        "# show dataframe\n",
        "frame2"
      ],
      "metadata": {
        "id": "jELx_w68BTj9"
      },
      "execution_count": null,
      "outputs": []
    },
    {
      "cell_type": "markdown",
      "source": [
        "44. We could also manually insert values for specific rows using their index labels.\n",
        "\n",
        "45. If we wanted to add debt values for rows two, four, and five:"
      ],
      "metadata": {
        "id": "RI69B-AjBUY3"
      }
    },
    {
      "cell_type": "code",
      "source": [
        "# variable with Series object\n",
        "val = pd.Series([-1.2, -1.5, -1.7], index=['two', 'four', 'five'])\n",
        "\n",
        "# assign val Series object to debt column in frame2 DataFrame\n",
        "frame2['debt'] = val\n",
        "\n",
        "# show modified DataFrame\n",
        "frame2"
      ],
      "metadata": {
        "id": "ABQgLtQbBVTn"
      },
      "execution_count": null,
      "outputs": []
    },
    {
      "cell_type": "markdown",
      "source": [
        "46. We now see the modified `debt` values for the rows specified in the `index=` portion of our code.\n",
        "\n",
        "47. We can remove a column using the `del` keyword."
      ],
      "metadata": {
        "id": "YlUHkl7RBWrq"
      }
    },
    {
      "cell_type": "code",
      "source": [
        "# delete column\n",
        "del frame2['debt']\n",
        "\n",
        "# returns updated list of columns\n",
        "frame2.columns\n",
        "\n",
        "# result will be 'year', 'state', and 'pop'"
      ],
      "metadata": {
        "id": "25ZUmK5HBY1c"
      },
      "execution_count": null,
      "outputs": []
    },
    {
      "cell_type": "markdown",
      "source": [
        "48. We can also pass a nested dictionary to a DataFrame.\n"
      ],
      "metadata": {
        "id": "hl4wvay7BaN4"
      }
    },
    {
      "cell_type": "code",
      "source": [
        "# assign nested dictionary to variable\n",
        "pop = {'Nevada': {2001: 2.4, 2002: 2.9}, \n",
        "       'Ohio': {2000: 1.5, 2001: 1.7, 2002: 3.6}}\n",
        "       \n",
        "# passing the nested dictionary to a DataFrame\n",
        "frame3 = pd.DataFrame(pop)\n",
        "\n",
        "# return new DataFrame\n",
        "frame3"
      ],
      "metadata": {
        "id": "8VwHpyLJBbbF"
      },
      "execution_count": null,
      "outputs": []
    },
    {
      "cell_type": "markdown",
      "source": [
        "49. `pandas` interprets the outer dict keys as column names and inner keys as row names.\n",
        "\n",
        "<blockquote>Q1: Describe a DataFrame in your own words.</blockquote>\n",
        "\n",
        "<blockquote>Q2: Create your own small DataFrame. Write code that accomplishes the following tasks. Include code + comments.\n",
        " <ul>\n",
        "  <li>Change the original column order</li>\n",
        "  <li>Select a specific column(s) using its index label or name attribute</li>\n",
        "  <li>Select a specific row(s) using its index label or index value</li>\n",
        "  <li>Remove a column from the DataFrame</li>\n",
        "  <li>Determine summary statistics for values in the DataFrame</li>\n",
        " </ul>\n",
        " </blockquote>\n",
        "\n",
        "# From structured data file to `DataFrame`\n",
        "\n",
        "50. As mentioned earlier in this lab, it's far more likely that you will load structured data from a file into Python, rather than manually creating a `DataFrame`.\n",
        "\n",
        "51. For this section of the lab, we're going to work with data about *Titanic* passengers.\n",
        "\n",
        "52. Navigate to https://raw.githubusercontent.com/kwaldenphd/pandas-intro/main/data/titanic.csv in a web browser to see the dataset.\n",
        "\n",
        "53. We can load structured data into Python from a file located on our computer or from a URL, using `pd.read_csv()`."
      ],
      "metadata": {
        "id": "agWeVkRQBc5d"
      }
    },
    {
      "cell_type": "code",
      "source": [
        "# import pandas\n",
        "import pandas as pd\n",
        "\n",
        "# load titanic data from csv file\n",
        "titanic_file = pd.read_csv(\"titanic.csv\")\n",
        "\n",
        "# show first 5 rows of newly-loaded dataframe\n",
        "titanic_file.head(5)\n",
        "\n",
        "# load titanic data from url\n",
        "titanic = pd.read_csv(\"https://raw.githubusercontent.com/kwaldenphd/pandas-intro/main/data/titanic.csv\")\n",
        "\n",
        "# show first 5 rows of newly-loaded dataframe\n",
        "titanic.head(5)"
      ],
      "metadata": {
        "id": "VWnSeZwPBeT-"
      },
      "execution_count": null,
      "outputs": []
    },
    {
      "cell_type": "markdown",
      "source": [
        "54. `pandas` provides the `read_csv()` function which stores `.csv` data as a `pandas` `DataFrame`.\n",
        "\n",
        "55. This `read_` prefix can be used with other structured data file formats, as we'll explore with JSON later.\n",
        "\n",
        "56. Other parsing functions in `pandas`:\n",
        "- `read_fwf`: fixed-width data with no delimiter\n",
        "- `read_clipboard`: reads in data from clipboard\n",
        "- `read_excel`: reads in data from `.xls` or `.xlsx` files\n",
        "- `read_html`: reads in any tables contained in an HTML document\n",
        "- `read_json`: reads in JSON data\n",
        "- `read_sql`: reads in results of an SQL query as a pandas dataframe\n",
        "- `read_sas`: reads in SAS dataset\n",
        "- `read_stata`: reads in Stata file format\n",
        "\n",
        "57. To check the first and last five rows of the `titanic` data frame:"
      ],
      "metadata": {
        "id": "g48hsSHjBlJR"
      }
    },
    {
      "cell_type": "code",
      "source": [
        "titanic"
      ],
      "metadata": {
        "id": "yy65dq6JBmJ9"
      },
      "execution_count": null,
      "outputs": []
    },
    {
      "cell_type": "markdown",
      "source": [
        "58. We can also check the data type for each column using `.dtypes`."
      ],
      "metadata": {
        "id": "w61Z-5TnBnKe"
      }
    },
    {
      "cell_type": "code",
      "source": [
        "titanic.dtypes"
      ],
      "metadata": {
        "id": "lUDQuD0TBn1r"
      },
      "execution_count": null,
      "outputs": []
    },
    {
      "cell_type": "markdown",
      "source": [
        "59. From this output, we know we have integers (`int64`), floats (`float64`), and strings (`object`).\n",
        "\n",
        "60. Maybe we want a more technical summary of this `DataFrame`."
      ],
      "metadata": {
        "id": "pv0t_a23Bo9w"
      }
    },
    {
      "cell_type": "code",
      "source": [
        "titanic.info()"
      ],
      "metadata": {
        "id": "fHvmUDCxBpyW"
      },
      "execution_count": null,
      "outputs": []
    },
    {
      "cell_type": "markdown",
      "source": [
        "61. `.info()` returns row numbers, the number of entries, column names, column data types, and the number of non-null values in each column. \n",
        "\n",
        "62. We can see from the `Non-Null Count` values that some columns do have null or missing values.\n",
        "\n",
        "63. `.info()` also tells us how much memory (RAM) is used to store this `DataFrame`.\n",
        "\n",
        "64. In the titanic data example, the `read` operation was fairly straightforward. \n",
        "\n",
        "65. The data being loaded contained headers and was formatted in a way we would expect for a `.csv` file.\n",
        "\n",
        "66. But in many situations, data being loaded to a `DataFrame` will not conform to these formatting conventions.\n",
        "\n",
        "67. Let's say we have a file that does not include a header row.\n",
        "\n",
        "68. `pandas` can assign default column names, or you can set them manually.\n",
        "\n",
        "69. The `titanic_no_header` file contains the same original data with the first row of column names removed."
      ],
      "metadata": {
        "id": "jAbE47czBrQC"
      }
    },
    {
      "cell_type": "code",
      "source": [
        "# import pandas \n",
        "import pandas as pd\n",
        "\n",
        "# load headless titanic data\n",
        "headless_titanic_default = pd.read_csv(\"https://raw.githubusercontent.com/kwaldenphd/pandas-intro/main/data/titanic_no_header.csv\", header=None)\n",
        "\n",
        "# shows us the default column names assigned by pandas\n",
        "headless_titanic_default\n",
        "\n",
        "# load headless titanic data and manually assign column names\n",
        "headless_titanic = pd.read_csv(\"https://raw.githubusercontent.com/kwaldenphd/pandas-intro/main/data/titanic_no_header.csv\", names=['PassengerID', 'Survived', 'Pclass', 'Name', 'Sex', 'Age', 'SibSp', 'Parch', 'Ticket', 'Fare' ,'Cabin', 'Embarked'])\n",
        "\n",
        "# shows data frame with manually assigned column names\n",
        "headless_titanic"
      ],
      "metadata": {
        "id": "RZP7U9lVBsfU"
      },
      "execution_count": null,
      "outputs": []
    },
    {
      "cell_type": "markdown",
      "source": [
        "70. Let's say you have a `.txt` file that does not incldue a character delimiter.\n",
        "\n",
        "71. `titanic.txt` is the same titanic data this time as tab-delimited values.\n",
        "\n",
        "72. We would need to specify how `pandas` should parse this data as rows and columns.\n"
      ],
      "metadata": {
        "id": "StvcofuZBtki"
      }
    },
    {
      "cell_type": "code",
      "source": [
        "# import pandas\n",
        "import pandas as pd\n",
        "\n",
        "# load titanic txt data\n",
        "titanic_txt = pd.read_csv(\"https://raw.githubusercontent.com/kwaldenphd/pandas-intro/main/data/titanic.txt\", sep=\"\\t\")\n",
        "\n",
        "# shows first and last five rows of data frame\n",
        "titanic_txt"
      ],
      "metadata": {
        "id": "8emZI_2-BuzZ"
      },
      "execution_count": null,
      "outputs": []
    },
    {
      "cell_type": "markdown",
      "source": [
        "73. We can also run into situations where the data we are loading into Python has missing values.\n",
        "\n",
        "74. Just trying to load a file with missing data will return error messages.\n",
        "\n",
        "75. We can specify what characters representing missing data when we create the `DataFrame`."
      ],
      "metadata": {
        "id": "WxB3TJJOBwLi"
      }
    },
    {
      "cell_type": "code",
      "source": [
        "# import pandas\n",
        "import pandas as pd\n",
        "\n",
        "# load data where missing values are represented by NA or Null\n",
        "sample = pd.read_csv(\"file_name.csv\", na_values=['NA', 'Null'])\n",
        "\n",
        "# for a situation where missing values in one column are represented by NA and another column's missing data are represented by Null\n",
        "# first step is to create a dictionary for these column names and null values\n",
        "null_symbols = {'column1': ['NA'], 'column2': ['Null']}\n",
        "\n",
        "# load data where with column-specific missing values\n",
        "sample2 = pd.read_csv(\"file_2_name.csv\", na_values=null_symbols)"
      ],
      "metadata": {
        "id": "UnYg1H7XBxNI"
      },
      "execution_count": null,
      "outputs": []
    },
    {
      "cell_type": "markdown",
      "source": [
        "76. `pd.read_csv` includes other function arguments that can help with other common data formatting issues.\n",
        "\n",
        "Argument | Description\n",
        "--- | ---\n",
        "`sep` or `delimiter` | Specifies the character sequence or regular expression used as a separator or delimiter\n",
        "`header` | Specifies the row number to use as column names; `0` is default (does not need to be specified); `header=None` if no header\n",
        "`index_col` | Specifies the column numbers or names to use as row index \n",
        "`names` | Specifies list of column names for result\n",
        "`skiprows` | Row numbers (starting at 0) for rows to skip\n",
        "`na_values` | Sequence of characters that represent missing or NA data\n",
        "`comment` | Characters used to mark or split off comments that occur at end of lines of data\n",
        "`parse_dates` | Specifies how date and time data will be parsed; `False` by default; `True` will attempt to parse all columns as `datetime` format; can also apply to select columns\n",
        "`dayfirst` | Specifies international date format (DD/MM/YYYY); `False` by default\n",
        "`date_parser` | Function used to parse dates\n",
        "`nrows` | Number of rows to read starting at the beginning of the file; especially helpful when only needing part of a large file\n",
        "`skip_footer` | Number of lines to ignore at the end of the file\n",
        "`encoding` | Specifies encoding schema\n",
        "`thousands` | Specifies `,` or `.` separater for thousands\n",
        "\n",
        "77. Other elements of `.csv` dialect we might encounter when loading a file to a `DataFrame`:\n",
        "\n",
        "Argument | Description\n",
        "--- | ---\n",
        "`delimiter` | One character string used to separate fields; default is `,`\n",
        "`quotechar` | Quote character for fields with specific characters or fields that inclde the delimiter character\n",
        "`skippinitialspace` | Instructs program to ignore whitespace after delimiter; default is `False`\n",
        "`doublequote` | Specifies how to handle quoting character within a field\n",
        "`escapechar` | Specifies the string used to escape the delimiter character if `quoting` is set to `QUOTE_NONE`\n",
        "\n",
        "<blockquote>Q3: Write code that loads in a different data file as a DataFrame and accomplishes each of the following tasks. Include code + comments.\n",
        " <ul><li>Shows the first five rows</li>\n",
        "  <li>Shows the last five rows</li>\n",
        "  <li>Checks the data types for each column</li>\n",
        "  <li>Returns a technical summary for the DataFrame</li>\n",
        " </ul>\n",
        " </blockquote>\n",
        " \n",
        "# Interacting with a `DataFrame`\n"
      ],
      "metadata": {
        "id": "oqb74qeRB1Sc"
      }
    },
    {
      "cell_type": "markdown",
      "source": [
        "## Sorting\n",
        "\n",
        "78. `pandas` includes a few different built-in sorting operations.\n",
        "\n",
        "79. We can sort by an index for either axis of our `DataFrame` (i.e. we can sort based on row index labels or by column name).\n",
        "\n",
        "80. Going back to our Titanic passenger data, let's say we wanted to sort by passenger age.\n"
      ],
      "metadata": {
        "id": "EDdgWSJtB3SL"
      }
    },
    {
      "cell_type": "code",
      "source": [
        "# import pandas\n",
        "import pandas as pd\n",
        "\n",
        "# load titanic data from url\n",
        "titanic = pd.read_csv(\"https://raw.githubusercontent.com/kwaldenphd/eda-pandas/main/data/titanic.csv\")\n",
        "\n",
        "# show first 5 rows of newly-loaded dataframe\n",
        "titanic.head(5)\n",
        "\n",
        "# sort by passenger age and show first five rows of the sorted data\n",
        "titanic.sort_values(by=\"Age\").head()"
      ],
      "metadata": {
        "id": "KU1xS9_rB0na"
      },
      "execution_count": null,
      "outputs": []
    },
    {
      "cell_type": "markdown",
      "source": [
        "81. The default for `.sort_values` is to sort in ascending order.\n",
        "\n",
        "82. We can use `ascending=False` to sort in descending order."
      ],
      "metadata": {
        "id": "oORv0J5aB6je"
      }
    },
    {
      "cell_type": "code",
      "source": [
        "titanic.sort_values(by=['Age'], ascending=False)"
      ],
      "metadata": {
        "id": "J6umdz2dB5vD"
      },
      "execution_count": null,
      "outputs": []
    },
    {
      "cell_type": "markdown",
      "source": [
        "83. NOTE: When sorting, we are returning a sorted `DataFrame`. We ARE NOT updating the `DataFrame` in place. \n",
        "\n",
        "84. We have a couple of options to sort in place."
      ],
      "metadata": {
        "id": "l4Gv_oXaB9s8"
      }
    },
    {
      "cell_type": "code",
      "source": [
        "# create new dataframe with sorted results\n",
        "titanic_by_age = titanic.sort_values(by=\"Age\")\n",
        "\n",
        "# check newly-created dataframe\n",
        "titanic_by_age.head()\n",
        "\n",
        "# sort values in place\n",
        "titanic.sort_values(['Age'], inplace=True)\n",
        "\n",
        "# check newly-created dataframe\n",
        "titanic.head()"
      ],
      "metadata": {
        "id": "NufDppZvB-6n"
      },
      "execution_count": null,
      "outputs": []
    },
    {
      "cell_type": "markdown",
      "source": [
        "85. We can also sort by multiple fields.\n",
        "\n",
        "86. To sort by class cabin and age, in descending order:"
      ],
      "metadata": {
        "id": "AQ0nbT8HCABD"
      }
    },
    {
      "cell_type": "code",
      "source": [
        "titanic.sort_values(by=['Pclass', 'Age'], ascending=False).head()"
      ],
      "metadata": {
        "id": "Cvhul1VjCBSl"
      },
      "execution_count": null,
      "outputs": []
    },
    {
      "cell_type": "markdown",
      "source": [
        "87. When sorting by fields with string data, `a-z` is considered `ascending` and `z-a` would be `descending`.\n",
        "\n",
        "## Subsetting"
      ],
      "metadata": {
        "id": "H5fRlhtNCCRR"
      }
    },
    {
      "cell_type": "markdown",
      "source": [
        "### Select\n",
        "\n",
        "88. To review, we can select specific columns from a `DataFrame`. "
      ],
      "metadata": {
        "id": "_fi3vRPpCDM5"
      }
    },
    {
      "cell_type": "code",
      "source": [
        "# creates Series object with age values\n",
        "ages = titanic[\"Age\"]\n",
        "\n",
        "# show new object\n",
        "ages"
      ],
      "metadata": {
        "id": "ZsLPoLL1CDo0"
      },
      "execution_count": null,
      "outputs": []
    },
    {
      "cell_type": "markdown",
      "source": [
        "89. We can use `[\" \"]` to select a specific single column of interest. \n",
        "\n",
        "90. Python returns this single column's data as a `Series` object.\n",
        "\n",
        "91. We can also create a new data frame based on multiple columns."
      ],
      "metadata": {
        "id": "eA6kLUn7VfGn"
      }
    },
    {
      "cell_type": "code",
      "source": [
        "# selects multiple columns to form new dataframe\n",
        "age_sex = titanic[[\"Age\", \"Sex\"]]\n",
        "\n",
        "# checks first five rows of new dataframe\n",
        "age_sex.head()"
      ],
      "metadata": {
        "id": "27qZEUMHVgAq"
      },
      "execution_count": null,
      "outputs": []
    },
    {
      "cell_type": "markdown",
      "source": [
        "92. When selecting multiple columns, the inner brackets (`[]`) define the column names to subset or select.\n",
        "\n",
        "93. The outer brackets select data from a dataframe.\n",
        "\n",
        "94. In this multi-column example, `age_sex` is a `DataFrame` because it is a two-dimensional object.\n",
        "\n",
        "95. For more on sorting operations in `pandas`, check out the package's [\"Sorting\" documentation](https://pandas.pydata.org/pandas-docs/stable/user_guide/basics.html#sorting).\n",
        "\n",
        "### Filter\n",
        "\n",
        "96. We can select or return rows in our `DataFrame` that meet specific conditions.\n",
        "\n",
        "97. Let's say we wanted to create a new `DataFrame` only containing data for passengers older than 35 years."
      ],
      "metadata": {
        "id": "dPr8NHzIVmyJ"
      }
    },
    {
      "cell_type": "code",
      "source": [
        "above_35 = titanic[titanic[\"Age\"] > 35]\n",
        "\n",
        "# check first five rows of newly-created dataframe\n",
        "above_35.head()"
      ],
      "metadata": {
        "id": "2OVApNCuVomV"
      },
      "execution_count": null,
      "outputs": []
    },
    {
      "cell_type": "markdown",
      "source": [
        "98. We use brackets (`[]`) to set a condition rows must meet to be assigned to the new dataframe.\n",
        "\n",
        "99. If we just wanted to see whether rows meet this condition in the original `DataFrame`, we could just test for the condition without creating a new `DataFrame`."
      ],
      "metadata": {
        "id": "13SvTYq8Vpjs"
      }
    },
    {
      "cell_type": "code",
      "source": [
        "titanic[\"Age\"] > 35"
      ],
      "metadata": {
        "id": "UwJ1hoD6VqRX"
      },
      "execution_count": null,
      "outputs": []
    },
    {
      "cell_type": "markdown",
      "source": [
        "100. Maybe we want to create a new data frame containing data on passegers in cabin class 2 and 3."
      ],
      "metadata": {
        "id": "2eiwvPqxVrbL"
      }
    },
    {
      "cell_type": "code",
      "source": [
        "class_23 = titanic[titanic[\"Pclass\"].isin([2, 3])]\n",
        "\n",
        "# check first five rows of newly-created dataframe\n",
        "class_23.head()"
      ],
      "metadata": {
        "id": "ehCfXYR0Vu70"
      },
      "execution_count": null,
      "outputs": []
    },
    {
      "cell_type": "markdown",
      "source": [
        "101. The `isin()` conditional function on its own would return a `True` or `False` value.\n",
        "\n",
        "102. By nesting the `isin()` function in brackets (`[]`), we are filtering rows based on rows  that meet the function critera, or return as `True` from this function.\n",
        "\n",
        "103. We could also break out the chained or compound conditional statement using an `OR` operator, `|`."
      ],
      "metadata": {
        "id": "Vd23Rm_SVxl5"
      }
    },
    {
      "cell_type": "code",
      "source": [
        "class_23_alternate =  titanic[(titanic[\"Pclass\"] == 2) | (titanic[\"Pclass\"] == 3)]\n",
        "\n",
        "class_23_alternate.head()"
      ],
      "metadata": {
        "id": "b-8EpPXbVu1x"
      },
      "execution_count": null,
      "outputs": []
    },
    {
      "cell_type": "markdown",
      "source": [
        "104. For more on Boolean indexing and the `isin()` function:\n",
        "- [\"Boolean indexing,\" Pandas documentation](https://pandas.pydata.org/pandas-docs/stable/user_guide/indexing.html#indexing-boolean)\n",
        "- [\"Indexing with isin,\" Pandas documentation](https://pandas.pydata.org/pandas-docs/stable/user_guide/indexing.html#indexing-basics-indexing-isin)\n",
        "\n",
        "105. We could also create a new dataframe with passenger data for only passengers that have a known age."
      ],
      "metadata": {
        "id": "6k7MemLMV1nu"
      }
    },
    {
      "cell_type": "code",
      "source": [
        "age_known = titanic[titanic[\"Age\"].notna()]\n",
        "\n",
        "age_known.head()"
      ],
      "metadata": {
        "id": "p9eMuWLPV23E"
      },
      "execution_count": null,
      "outputs": []
    },
    {
      "cell_type": "markdown",
      "source": [
        "106. `.notna()` is a conditional function that returns `True` for rows that do not have a `Null` value.\n",
        "\n",
        "107. For more on missing values and related functions, check out [the \"Working with missing data\" package documentation](https://pandas.pydata.org/pandas-docs/stable/user_guide/missing_data.html#missing-data).\n",
        "\n",
        "### Selecting specific rows and columns\n",
        "\n",
        "108. Selecting lets us isolate columns, and filtering identifies specific rows.\n",
        "\n",
        "109. But we can imagine a scenario in which we would want to combine these elements.\n",
        "\n",
        "110. We might want to create a new dataframe containing only the names of passengers who are over 35 years old."
      ],
      "metadata": {
        "id": "75ReDLS6V4ef"
      }
    },
    {
      "cell_type": "code",
      "source": [
        "over_35_names = titanic.loc[titanic[\"Age\"] > 35, \"Name\"]\n",
        "\n",
        "over_35_names"
      ],
      "metadata": {
        "id": "TPOL9y6eV54-"
      },
      "execution_count": null,
      "outputs": []
    },
    {
      "cell_type": "markdown",
      "source": [
        "111. `.loc` identifies the rows we are writing to the new dataframe.\n",
        "\n",
        "112. What we are passing to the `loc` operator includes the row filter condition (`titanic[\"Age\"] > 35`) and the column we are writing to the new dataframe (`Name`).\n",
        "\n",
        "113. We can also select rows and columns based on their index position.\n",
        "\n",
        "114. We could isolate rows 10-25 and columns 3-5 with the following expression:"
      ],
      "metadata": {
        "id": "Lv0n28H_V7fh"
      }
    },
    {
      "cell_type": "code",
      "source": [
        "titanic.iloc[9:25, 2:5]"
      ],
      "metadata": {
        "id": "e8VEsxCfV8aQ"
      },
      "execution_count": null,
      "outputs": []
    },
    {
      "cell_type": "markdown",
      "source": [
        "115. We can also assign new values to our selection using `loc` or `iloc`.\n",
        "\n",
        "116. `loc` isolates rows based on their value, while `iloc` isolates rows based on their index position or label.\n",
        "\n",
        "117. Let's say we wanted to anonymize the first three names in the dataset.\n",
        "\n",
        "118. We could do this using `titanic.iloc[0:3, 3] = \"anonymous\"`.\n",
        "\n",
        "119. Consult the [\"Different choices for indexing\"](https://pandas.pydata.org/pandas-docs/stable/user_guide/indexing.html#indexing-choice) documentation for more on indexing options.\n",
        "\n",
        "120. A few key takeaways:\n",
        "- We use square brackets `[]` to subset data.\n",
        "- We can specify single rows or columns, a list of rows/columns, or conditional expression within those brackets\n",
        "- Select specific rows and/or columns using `loc` when working with row/column names\n",
        "- Select specific rows and/or columns usign `iloc` when working with index positions\n",
        "- You can assign new values to selection using `loc` or `iloc`\n",
        "\n",
        "## Removing duplicates\n",
        "\n",
        "121. A useful place to start is identifying and removing any duplicate rows in a dataframe.\n",
        "\n",
        "122. We can do this using a few key functions.\n",
        "\n",
        "123. `.duplicated()` will return a `True` or `False` value indicating if a row is a duplicate of a previously occuring row."
      ],
      "metadata": {
        "id": "dhbmx0edV-aG"
      }
    },
    {
      "cell_type": "code",
      "source": [
        "data_frame.duplicated()"
      ],
      "metadata": {
        "id": "0PRrfvITV_vu"
      },
      "execution_count": null,
      "outputs": []
    },
    {
      "cell_type": "markdown",
      "source": [
        "124. `.drop_duplicates()` will return a dataframe containing only rows that are not duplicated.\n"
      ],
      "metadata": {
        "id": "HHAG1_hoWAXR"
      }
    },
    {
      "cell_type": "code",
      "source": [
        "new_data_frame = old_data_frame.drop_duplicates()\n"
      ],
      "metadata": {
        "id": "jtQhge-1WBRQ"
      },
      "execution_count": null,
      "outputs": []
    },
    {
      "cell_type": "markdown",
      "source": [
        "<blockquote>Q4: Using the DataFrame you created for Q3, write code that executes AT LEAST FOUR of the following tasks. Include code + comments.\n",
        " <ul>\n",
        "  <li>Sorts a column by ascending values</li>\n",
        "  <li>Sorts a column by descending values</li>\n",
        "  <li>Selects a specific column in the DataFrame</li>\n",
        "  <li>Creates a new DataFrame with select columns from existing DataFrame</li>\n",
        "  <li>Uses a comparison operator to filter rows in the DataFrame</li>\n",
        "  <li>Uses an isin statement to filter rows in the DataFrame</li>\n",
        "  <li>Selects specific rows and columns</li>\n",
        "  <li>Removes duplicate rows</li>\n",
        " </ul>\n",
        " </blockquote>\n",
        " \n",
        "# Summary Statistics and Calculations\n",
        "\n",
        "123. `pandas` comes with built-in functionality for performing common mathematical and statistical calculations.\n",
        "\n",
        "124. Most of these mathematical methods fall under the umbrella of summary statistics.\n",
        "\n",
        "125. We could use `.mean()` to get the average age of Titanic passengers."
      ],
      "metadata": {
        "id": "FUuy02DIWC6D"
      }
    },
    {
      "cell_type": "code",
      "source": [
        "# load titanic data from url\n",
        "titanic = pd.read_csv(\"https://raw.githubusercontent.com/kwaldenphd/pandas-intro/main/data/titanic.csv\")\n",
        "\n",
        "# show first 5 rows of newly-loaded dataframe\n",
        "titanic.head(5)\n",
        "\n",
        "# calculate mean\n",
        "titanic[\"Age\"].mean()"
      ],
      "metadata": {
        "id": "D6pM9mAPWEvZ"
      },
      "execution_count": null,
      "outputs": []
    },
    {
      "cell_type": "markdown",
      "source": [
        "126. We could also calculate the median age and ticket fare using `.median()`.\n"
      ],
      "metadata": {
        "id": "mW9j83ryWFmk"
      }
    },
    {
      "cell_type": "code",
      "source": [
        "titanic[[\"Age\", \"Fare\"]].median()\n"
      ],
      "metadata": {
        "id": "UaoU0ITKWGXw"
      },
      "execution_count": null,
      "outputs": []
    },
    {
      "cell_type": "markdown",
      "source": [
        "127. By default, these descriptive statistics will ignore missing data.\n",
        "\n",
        "128. In a situation where missing data or `NaN` values need to be part of the calculation, we would set `skipna` to `False`."
      ],
      "metadata": {
        "id": "YX-0-n5AWHXY"
      }
    },
    {
      "cell_type": "code",
      "source": [
        "titanic.sum(axis=0, skipna=True)\n"
      ],
      "metadata": {
        "id": "kikJhqFNWIKN"
      },
      "execution_count": null,
      "outputs": []
    },
    {
      "cell_type": "markdown",
      "source": [
        "129. In the `.sum()` example, we use `axis=` to specify what axis to perform the mathematical operation on.\n",
        "- `axis=0` indicates columns\n",
        "- `axis=1` indicates rows\n",
        "\n",
        "130. `skipna=True` means rows with missing data will not be part of the mathematical operation.\n",
        "\n",
        "131. Remember `.describe()` returns aggregate information on the entire dataset.\n",
        "\n",
        "132. We can use `.agg()` to return specific combinations of aggregate statistics for specific columns.\n",
        "\n",
        "133. Say we wanted to compute `min`, `max`, `median`, and `skew` for the `Age` column and `min`, `max`, `median`, and `mean` for the `Fare` column.\n",
        "\n",
        "134. We can specify those statistics and those columns using `.agg()`."
      ],
      "metadata": {
        "id": "-ziqjIIqWJY6"
      }
    },
    {
      "cell_type": "code",
      "source": [
        "titanic.agg(\n",
        "  {\n",
        "    \"Age\": [\"min\", \"max\", \"median\", \"skew\"],\n",
        "    \"Fare\": [\"min\", \"max\", \"median\", \"mean\"],\n",
        "   }\n",
        " )"
      ],
      "metadata": {
        "id": "rz2SQOtqWKzY"
      },
      "execution_count": null,
      "outputs": []
    },
    {
      "cell_type": "markdown",
      "source": [
        "134. Consult `pandas` [\"Descriptive statistics\"](https://pandas.pydata.org/pandas-docs/stable/user_guide/basics.html#descriptive-statistics) documentation for more on descriptive statistics in `pandas`.\n",
        "\n",
        "135. We can also aggregate summary statistics by category, using `.groupby()`.\n",
        "\n",
        "136. To find out the average age for female versus male passengers:"
      ],
      "metadata": {
        "id": "beDw3JOVWLq3"
      }
    },
    {
      "cell_type": "code",
      "source": [
        "titanic[[\"Sex\", \"Age\"]].groupby(\"Sex\").mean()\n"
      ],
      "metadata": {
        "id": "0UHFhE8WWMYf"
      },
      "execution_count": null,
      "outputs": []
    },
    {
      "cell_type": "markdown",
      "source": [
        "137. The first set of brackets (`[]`) isolates a subselection with only these two columns.\n",
        "\n",
        "138. Then we apply the `.groupby()` method to the `Sex` column to calculate `.mean()` for each unique value represented in the `Sex` field.\n",
        "\n",
        "<p align=\"center\"><a href=\"https://github.com/kwaldenphd/eda-pandas/blob/main/figures/Figure_1.svg?raw=true\"><img class=\"aligncenter\" src=\"https://github.com/kwaldenphd/eda-pandas/blob/main/figures/Figure_1.svg?raw=true\" /></a></p>\n",
        "\n",
        "139. Generally speaking, this type of `pandas` operation follows a `split-apply-combine` pattern.\n",
        "- First we `split` the data into groups.\n",
        "- Then we `apply` a function to each group independently.\n",
        "- Then we `combine` the function results into a data structure.\n",
        "\n",
        "140. `pandas` syntax combines the `apply` and `combine` steps.\n",
        "\n",
        "141. Another way to calculate average age by gender:"
      ],
      "metadata": {
        "id": "cy8zkr4UWN6K"
      }
    },
    {
      "cell_type": "code",
      "source": [
        "titanic.groupby(\"Sex\")[\"Age\"].mean()"
      ],
      "metadata": {
        "id": "KT_E74hbWPDl"
      },
      "execution_count": null,
      "outputs": []
    },
    {
      "cell_type": "markdown",
      "source": [
        "<p align=\"center\"><a href=\"https://github.com/kwaldenphd/eda-pandas/blob/main/figures/Figure_2.svg?raw=true\"><img class=\"aligncenter\" src=\"https://github.com/kwaldenphd/eda-pandas/blob/main/figures/Figure_2.svg?raw=true\" /></a></p>\n",
        "\n",
        "142. In this alternate example, the column name in the `.groupby()` parenthesis specifies the column to group by.\n",
        "\n",
        "143. The column name in brackets (`[]`) specifies the column to perform the mathematical function on.\n",
        "\n",
        "144. As a last example, let's say we want the mean ticket fare price for each of the gender and cabin class combinations.\n",
        "\n",
        "145. We can think through the underlying logic for that program.\n",
        "- First we need to `split` the data into groups for gender and cabin class\n",
        "- Then we need to `apply` a mean calculation to the ticket fare column for each of those  groups\n",
        "- The last step will be to `combine` all that information into a data structure\n",
        "\n",
        "146. To express that programatically in Python:"
      ],
      "metadata": {
        "id": "R2nVNhmJWQeD"
      }
    },
    {
      "cell_type": "code",
      "source": [
        "titanic.groupby([\"Sex\", \"Pclass\"])[\"Fare\"].mean()\n"
      ],
      "metadata": {
        "id": "fceVxpZ0WRgX"
      },
      "execution_count": null,
      "outputs": []
    },
    {
      "cell_type": "markdown",
      "source": [
        "147. Consult `pandas` [\"Group by\" documentation](https://pandas.pydata.org/pandas-docs/stable/user_guide/groupby.html#groupby) to learn more about this function.\n",
        "\n",
        "148. We can also count the number of records by category using `.value_counts()`.\n",
        "\n",
        "149. The `.value_counts()` method returns the number of records for each category in a column.\n",
        "\n",
        "150. Let's say we wanted to know the number of passengers for each cabin class.\n",
        "\n",
        "151. Thinking through the underlying logic, we want Python to count how many records are contained for each unique value in the `Pclass` column.\n",
        "\n",
        "152. That requires identifying the unique values, counting the number of instances for each, and returning those values as a sum.\n",
        "\n",
        "153. To express that progrmatically in Python:"
      ],
      "metadata": {
        "id": "vEClEWUJWShA"
      }
    },
    {
      "cell_type": "code",
      "source": [
        "titanic[\"Pclass\"].value_counts()\n"
      ],
      "metadata": {
        "id": "eLNvbrXEWTmO"
      },
      "execution_count": null,
      "outputs": []
    },
    {
      "cell_type": "markdown",
      "source": [
        "154. We could also break out these steps using a combination of `.groupby()` and `.count()`:\n"
      ],
      "metadata": {
        "id": "vgrRtESHWUlW"
      }
    },
    {
      "cell_type": "code",
      "source": [
        "titanic.groupby(\"Pclass\")[\"Pclass\"].count()\n"
      ],
      "metadata": {
        "id": "wKzn7DP3WVND"
      },
      "execution_count": null,
      "outputs": []
    },
    {
      "cell_type": "markdown",
      "source": [
        "155. In the second example, we are explicitly categorizing the data by category in the `Pclass` column, then performing a `.count()` operation on the records for each `Pclass` category.\n",
        "\n",
        "156. A few key takeaways:\n",
        "- We can calculate aggregate statistics for entire rows or columns\n",
        "- `.groupby()` follows a `split-apply-combine` pattern\n",
        "- `.value_counts()` can be a shorthand for getting the number of entries for each category in a field\n",
        "\n",
        "<blockquote>Q5: Using the titanic dataset (or another dataset), write code that calculates at least 3 unique summary statistics (.agg() counts as one). Include code + comments for each.</blockquote>\n",
        "\n",
        "## Creating New Columns Based on Existing Columns\n",
        "\n",
        "157. Let's introduce a new sample dataset, this time with air quality data for measurement stations in London, Paris, and Antwerp.\n",
        "\n",
        "158. Values in this dataset include nitrogen dioxide (<code>NO<sub>2</sub></code>) concentration expressed as parts per million (`ppm`)."
      ],
      "metadata": {
        "id": "RtWZNxmLWWml"
      }
    },
    {
      "cell_type": "code",
      "source": [
        "# load air quality data from url\n",
        "air_quality = pd.read_csv(\"https://raw.githubusercontent.com/kwaldenphd/eda-pandas/main/data/air_quality_no2.csv\", index_col=0, parse_dates=True)\n",
        "\n",
        "# show first 5 rows of newly-loaded dataframe\n",
        "air_quality.head()"
      ],
      "metadata": {
        "id": "KLe4fVzhWXyx"
      },
      "execution_count": null,
      "outputs": []
    },
    {
      "cell_type": "markdown",
      "source": [
        "159. Let's say we wanted to express the London station's <code>NO<sub>2</sub></code> concentration as milligrams per cubic meter (mg/m<sup>3</sup>).\n",
        "\n",
        "160. For our purposes, we are assuming a temperature of 25 degrees Celsius and pressure of 1013 hPa, which means the conversion factor is 1.882.\n",
        "\n",
        "161. We would need to convert all of the `station_london` column values from `ppm` to <code>mg/m<sup>3</sup></code>. And we would want to store the results of that calculation in a newly-created column.\n",
        "\n",
        "<p align=\"center\"><a href=\"https://github.com/kwaldenphd/eda-pandas/blob/main/figures/Figure_2.svg?raw=true\"><img class=\"aligncenter\" src=\"https://github.com/kwaldenphd/eda-pandas/blob/main/figures/Figure_2.svg?raw=true\" /></a></p>\n",
        "\n",
        "162. To express those steps programatically in Python:"
      ],
      "metadata": {
        "id": "9OCdRF6zWY-1"
      }
    },
    {
      "cell_type": "code",
      "source": [
        "air_quality[\"london_mg_per_cubic\"] = air_quality[\"station_london\"] * 1.882\n",
        "\n",
        "air_quality.head()"
      ],
      "metadata": {
        "id": "dGrp2heJWZ6J"
      },
      "execution_count": null,
      "outputs": []
    },
    {
      "cell_type": "markdown",
      "source": [
        "163. Note that we do not need to iterate over all rows for a specific dataframe column to perform this calculation.\n",
        "\n",
        "164. `pandas` performs the calculation `element_wise`, that is on all of the values in the column at once.\n",
        "\n",
        "165. Let's say we wanted to calculate the ratio of the Paris versus Antwerp station values and store that result in a new column.\n",
        "\n",
        "166. We would need to calculate the ratio for each row and store the results of the calculation in a new column.\n",
        "\n",
        "<p align=\"center\"><a href=\"https://github.com/kwaldenphd/eda-pandas/blob/main/figures/Figure_3.svg?raw=true\"><img class=\"aligncenter\" src=\"https://github.com/kwaldenphd/eda-pandas/blob/main/figures/Figure_3.svg?raw=true\" /></a></p>\n",
        "\n",
        "167. To express those steps programatically in Python:"
      ],
      "metadata": {
        "id": "9BrRRYbfWbsi"
      }
    },
    {
      "cell_type": "code",
      "source": [
        "air_quality[\"ratio_paris_antwerp\"] = (air_quality[\"station_paris\"] / air_quality[\"station_antwerp\"])\n",
        "\n",
        "air_quality.head()"
      ],
      "metadata": {
        "id": "oe6v52MLWcuU"
      },
      "execution_count": null,
      "outputs": []
    },
    {
      "cell_type": "markdown",
      "source": [
        "168. Again, because this is an element-wise calculation, the division operation is applied to all rows in the data frame.\n",
        "\n",
        "169. Python's other mathematical (`+`, `-`, `*`, `/`) and logical (`<`, `>`, `=`, etc.) all work element-wise.\n",
        "\n",
        "<blockquote>Q6: Describe element-wise calculation in your own words.</blockquote>\n",
        "\n",
        "<blockquote>Q7: Using the air quality data or another dataset, write code that generates a new column based on an existing column(s). Include code + comments.</blockquote>\n",
        "\n",
        "# Renaming, Mapping, and Reindexing\n",
        "\n",
        "170. As a result or as part of data wrangling operations, you may need to rename columns or renumber the rows in a dataframe."
      ],
      "metadata": {
        "id": "6X-tVR4kWeNA"
      }
    },
    {
      "cell_type": "markdown",
      "source": [
        "## Renaming Columns\n",
        "\n",
        "171. We can use `.rename()` to rename columns in a dataframe.\n",
        "\n",
        "172. We use a dictionary's key-value pairs to specify the new name for an existing column.\n",
        "\n",
        "173. To do this in place and change the names in an existing dataframe:\n",
        "```Python\n",
        "data_frame.rename(columns={\"old_name_1\": \"new_name_1\", \"old_name_2\": \"new_name_2\", \"old_name_3\": \"new_name_3\"})\n",
        "\n",
        "data_frame.head()\n",
        "```\n",
        "\n",
        "174. We can also create a new dataframe with the renamed columns.\n",
        "```Python\n",
        "new_data_frame = old_data_frame.rename(columns={\"old_name_1\": \"new_name_1\", \"old_name_2\": \"new_name_2\", \"old_name_3\": \"new_name_3\"})\n",
        "\n",
        "new_data_frame.head()\n",
        "```\n",
        "\n",
        "175. We can also standardize axis labels using `str` case methods (`upper`, `lower`, `title`, etc.)\n",
        "```Python\n",
        "# relabel index labels to upper case version of existing labels\n",
        "data_frame.rename(str.upper)\n",
        "\n",
        "# relabel index labels to lower case version of existing labels\n",
        "data_frame.rename(str.lower)\n",
        "```\n",
        "\n",
        "176. We can also rename row index labels usign `.rename()`.\n",
        "```Python\n",
        "data_frame.rename({\"old_row_1\": \"new_row_1\", \"old_row_2\": \"new_row_2\", \"old_row_3\": \"new_row_3\"}, axis=\"index\")\n",
        "```\n",
        "\n",
        "177. In the `data_frame.rename()` examples, the `.rename()` method is applied to a copy of the data--the underlying data is not changed.\n",
        "\n",
        "178. To alter the underlying data, we would set the `inplace` parameter to `True`.\n",
        "```Python\n",
        "data_frame.rename(RENAMING OPERATION, inplace=True)\n",
        "```\n",
        "\n",
        "179. For more on renaming functions, consult the `pandas` documentation for [`pandas.DataFrame.rename`](https://pandas.pydata.org/pandas-docs/stable/reference/api/pandas.DataFrame.rename.html#pandas.DataFrame.rename).\n",
        "\n",
        "180. We can also imagine a scenario in which you have sliced or filtered the data and now have row index labels that no longer make sense.\n",
        "\n",
        "181. For example, if your original rows had sequential numerical index labels, the transformed data will retain the original index labels.\n",
        "\n",
        "182. In these situations, we can reset the index to a simple ascending integer index using `.reset_index()`.\n",
        "\n",
        "```Python\n",
        "data_frame.reset_index()\n",
        "```\n",
        "\n",
        "183. For more on indexing, consult `pandas` [\"Different choices for indexing\"](https://pandas.pydata.org/pandas-docs/stable/user_guide/indexing.html?highlight=reindex#different-choices-for-indexing) documentation."
      ],
      "metadata": {
        "id": "3Hix5rIXWfKj"
      }
    },
    {
      "cell_type": "markdown",
      "source": [
        "# Getting started with `matplotlib`\n",
        "\n",
        "184. For our purposes, a plot is defined as \"a graphic representation (such as a chart)\" (Merriam Webster).\n",
        "\n",
        "185. These graphic representations of data are often called charts, graphs, figures, etc. \n",
        "\n",
        "186. In the context of programming, computer science, and data science, we refer to these as plots.\n",
        "\n",
        "187. We can generate plots for data stored in `pandas` using the `matplotlib` package.\n",
        "\n",
        "188. `matplotlib` was developed in 2002 as a MATLAB-like plotting interface for Python.\n",
        "\n",
        "189. \"Matplotlib is a comprehensive library for creating static, animated, and interactive visualizations in Python...Matplotlib produces publication-quality figures in a variety of hardcopy formats and interactive environments across platforms. Matplotlib can be used in Python scripts, the Python and IPython shell, web application servers, and various graphical user interface toolkits\" ([Matplotlib documentation, Github](https://github.com/matplotlib/matplotlib))\n",
        "\n",
        "190. As described [by the original developer John Hunter](https://matplotlib.org/users/history.html), \"Matplotlib is a library for making 2D plots of arrays in Python. Although it has its origins in emulating the MATLAB graphics commands, it is independent of MATLAB, and can be used in a Pythonic, object oriented way. Although Matplotlib is written primarily in pure Python, it makes heavy use of NumPy and other extension code to provide good performance even for large arrays. Matplotlib is designed with the philosophy that you should be able to create simple plots with just a few commands, or just one! If you want to see a histogram of your data, you shouldn't need to instantiate objects, call methods, set properties, and so on; it should just work.\"\n",
        "\n",
        "191. For more on `matplotlib`'s development and history: John Hunter, [\"History\"](https://matplotlib.org/users/history.html) *Matplotlib* (2008)\n",
        "\n",
        "192. To be able to call the `matplotlib` API (application programming interface) within Python, we need to make sure the package is installed and loaded.\n",
        "- To install at the command line: `pip install matplotlib`\n",
        "- To load in a `.py` script: `import matplotlib.pyplot as plot`\n",
        "- To work with `matplotlib` from a Jupyter notebook: `%matplotlib notebook`\n",
        "\n",
        "193. The default `matplotlib` plot is a line plot.\n"
      ],
      "metadata": {
        "id": "wYdwL6hVW577"
      }
    },
    {
      "cell_type": "code",
      "source": [
        "# import matplotlib\n",
        "import matplotlib.pyplot as plt\n",
        "\n",
        "# import numpy\n",
        "import numpy as np\n",
        "\n",
        "# create dataset of numbers 0, 1, 2, 3, 4, 5, 6, 7, 8, 9\n",
        "data = np.arange(10)\n",
        "\n",
        "# create line plot of data \n",
        "plt.plot(data)"
      ],
      "metadata": {
        "id": "DKvy_M8IW7GC"
      },
      "execution_count": null,
      "outputs": []
    },
    {
      "cell_type": "markdown",
      "source": [
        "194. We pass our data to `plt.plot()` and a line plot is generated.\n",
        "\n",
        "195. Plots in `matplotlib` reside within a `Figure` object.\n",
        "\n",
        "196. These figures contain one or more `Axes`, which are the area where points can be added or specified usign x-y coordinates for 2-D plots.\n",
        "\n",
        "197. Once the `Figure` object has been created, we can add start adding elements to the plot.\n",
        "\n",
        "198. The easiest way to create a figure is using `pyplot.subplots()`.\n",
        "\n",
        "199. NOTE: Because we have loaded the package using `import matplotlib.pyplot as plot`, we can use `plt` as shorthand for `pyplot`.\n",
        "\n",
        "200. We can then use `axes.plot()` to create axes and add data.\n",
        "\n",
        "201. Another line plot using a list of number values:"
      ],
      "metadata": {
        "id": "pei8aSS9W8ZL"
      }
    },
    {
      "cell_type": "code",
      "source": [
        "# import package\n",
        "import matplotlib.pyplot as plt\n",
        "\n",
        "# create figure with axes\n",
        "fig, ax = plt.subplots()\n",
        "\n",
        "# plot data on axes\n",
        "ax.plot([1, 2, 3, 4], [1, 4, 2, 3])"
      ],
      "metadata": {
        "id": "s12z1XAYW9u7"
      },
      "execution_count": null,
      "outputs": []
    },
    {
      "cell_type": "markdown",
      "source": [
        "202. We can see the first list of `1, 2, 3, 4` is shown on the `X` axis.\n",
        "\n",
        "203. The second list `1, 4, 2, 3` is shown on the `Y` axis.\n",
        "\n",
        "204. NOTE: The `Y` axis values are plotted in the original order--for this type of plot (a line plot), `matplotlib` keeps the list data in its original order.\n",
        "\n",
        "205. Let's generate a line plot using a square number sequence"
      ],
      "metadata": {
        "id": "jNWwAHSbW-jJ"
      }
    },
    {
      "cell_type": "code",
      "source": [
        "# import matplotlib\n",
        "import matplotlib.pyplot as plt\n",
        "\n",
        "# create dataset for y axis\n",
        "squares = [1, 4, 9, 16, 25]\n",
        "\n",
        "# create dataset for x axis\n",
        "input_values = [1, 2, 3, 4, 5]\n",
        "\n",
        "# create figure for new plot\n",
        "fig, ax = plt.subplots()\n",
        "\n",
        "# generate plot\n",
        "ax.plot(input_values, squares)\n",
        "\n",
        "# show plot\n",
        "plt.show()"
      ],
      "metadata": {
        "id": "u7Ak0BHVW_6K"
      },
      "execution_count": null,
      "outputs": []
    },
    {
      "cell_type": "markdown",
      "source": [
        "206. In this example, we import `matplotlib` and create two lists, `squares` and `input_values` that hold the data that will be plotted.\n",
        "\n",
        "207. NOTE: We need to specify `input_values`, because the default in `matplotlib` will start the axis at `0`.\n",
        "\n",
        "208. We then create a new variable `fig` that represents the entire figure or collection of plots.\n",
        "\n",
        "209. The variable `ax` represents a single plot in the `fig` figure.\n",
        "\n",
        "210. We then pass `squares` to the `plot()` method to create the plot.\n",
        "\n",
        "211. And `plt.show()` opens the `matplotlib` viewer to show us the newly-generated plot.\n",
        "\n",
        "212. From within the `matplotlib` viewer, we can zoom in and navigate the plot, as well as save images of the plot.\n",
        "\n",
        "# Anatomy of a `matplotlib` figure\n",
        "\n",
        "213. Before we start customizing plots or generating more complex plots, it's useful to know the components of a `matplotlib` figure.\n",
        "\n",
        "<p align=\"center\"><a href=\"https://github.com/kwaldenphd/matplotlib-intro/blob/main/figures/Figure_1.png?raw=true\"><img class=\"aligncenter\" src=\"https://github.com/kwaldenphd/matplotlib-intro/blob/main/figures/Figure_1.png?raw=true\" /></a></p>"
      ],
      "metadata": {
        "id": "aNyGaSXqXBnE"
      }
    },
    {
      "cell_type": "markdown",
      "source": [
        "## `Figure`\n",
        "\n",
        "214. `Figure`: A figure object that can include multiple `Axes` or plots; a `Figure` contains at least one `Axes`"
      ],
      "metadata": {
        "id": "ats8uY9TXCYW"
      }
    },
    {
      "cell_type": "code",
      "source": [
        "# create an empty figure with no axes\n",
        "fig = plt.figure()\n",
        "\n",
        "# create a figure with a single axes\n",
        "fig, ax = plt.subplots()\n",
        "\n",
        "# create a figure with a 2x2 grid of axes\n",
        "fig, axs = plt.subplots(2, 2)"
      ],
      "metadata": {
        "id": "jX1HbdUrXCoc"
      },
      "execution_count": null,
      "outputs": []
    },
    {
      "cell_type": "markdown",
      "source": [
        "215. Having multiple `Axes` in the same `Figure` is useful when creating side-by-side visualizations or a dashboard-style collection of visualizations.\n",
        "\n",
        "## `Axes`\n",
        "\n",
        "216. In `matplotlib` syntax, `Axes` are what we would think of as a single plot, where data is plotted.\n",
        "\n",
        "217. A `Figure` can contain many `Axes`, but a given `Axes` object can only be in one `Figure`.\n",
        "\n",
        "218. For cartesian coordinate plane visualizations, an `Axes` contains two `Axis` objects."
      ],
      "metadata": {
        "id": "kAOUCAGXXE22"
      }
    },
    {
      "cell_type": "markdown",
      "source": [
        "## `Axis`\n",
        "\n",
        "219. `matplotlib` works in a Cartesian coordinate system, with an `X` (horizontal) and `Y` (vertical) axis.\n",
        "\n",
        "220. In a `matplotlib` plot, the `Axis` objects set graph limits and generate tick marks and labels.\n",
        "\n",
        "221. The location of ticks is determined by a `Locator` object.\n",
        "\n",
        "222. Tick labels are strings formatted using `Formatter`."
      ],
      "metadata": {
        "id": "Q35MSjkZXF6z"
      }
    },
    {
      "cell_type": "markdown",
      "source": [
        "## Everything Else (`Artists`)\n",
        "\n",
        "223. The other components of the `Figure` include things like axis labels, marker or line style, tick labels, figure title, etc.\n",
        "\n",
        "224. These are all referred to as `Artists` in `matplotlib` documentation.\n",
        "\n",
        "225. Knowing how to configure or customize these plot components is not just about aesthetics--in many cases, customizing a plot is necessary for readability.\n",
        "\n",
        "226. For more on `matplotlib`:\n",
        "- [Introduction to `matplotlib`](https://github.com/kwaldenphd/matplotlib-intro)\n",
        "- [More with `matplotlib`](https://github.com/kwaldenphd/more-with-matplotlib/)"
      ],
      "metadata": {
        "id": "4xiz6CgcXG_Y"
      }
    },
    {
      "cell_type": "markdown",
      "source": [
        "# `pandas` and `matplotlib`\n",
        "\n",
        "227. Having to load data manually to build a visualization or plot gets cumbersome quickly.\n",
        "\n",
        "228. In many situations, we might want to work with data in a `pandas` `DataFrame` when building a visualization.\n",
        "\n",
        "229. `pandas` includes a `.plot()` attribute that interacts with the `matplotlib` API to generate plots.\n",
        "\n",
        "230. The `pandas` `.plot()` attribute relies on the `matplotlib` API to generate plots, so our work with `matplotlib` will come in handy when we need to customize plots generated using `.plot()`.\n",
        "\n",
        "231. And in many cases, the `.plot()` syntax is similar to `matplotlib` `OO` syntax."
      ],
      "metadata": {
        "id": "WtAa-t6CXIK6"
      }
    },
    {
      "cell_type": "markdown",
      "source": [
        "## Plotting in `pandas` Using `.plot()`\n",
        "\n",
        "232. Let's go back to the air quality data we were working with previously in `pandas`.\n",
        "\n",
        "233. To load the data as a dataframe:"
      ],
      "metadata": {
        "id": "LX0L2LoIXJAy"
      }
    },
    {
      "cell_type": "code",
      "source": [
        "# import pandas\n",
        "import pandas as pd\n",
        "\n",
        "# load data from url to dataframe\n",
        "air_quality = pd.read_csv('https://raw.githubusercontent.com/kwaldenphd/more-with-matplotlib/main/air_quality_no2.csv', index_col=0, parse_dates=True)\n",
        "\n",
        "# check data has loaded\n",
        "air_quality.head()"
      ],
      "metadata": {
        "id": "ZBsAVdgJXKVr"
      },
      "execution_count": null,
      "outputs": []
    },
    {
      "cell_type": "markdown",
      "source": [
        "234. We can do a quick visual check of the data by passing the entire data frame to `.plot()`.\n"
      ],
      "metadata": {
        "id": "qnlPoUHUXLVZ"
      }
    },
    {
      "cell_type": "code",
      "source": [
        "# import matplotlib\n",
        "import matplotlib.pyplot as plt\n",
        "\n",
        "# generate plot\n",
        "air_quality.plot()\n",
        "\n",
        "# show plot\n",
        "plt.show()"
      ],
      "metadata": {
        "id": "z6Ob-Rw0XMRV"
      },
      "execution_count": null,
      "outputs": []
    },
    {
      "cell_type": "markdown",
      "source": [
        "235. This isn't a particularly meaningful visualization, but it shows us how the default for `.plot()` creates a line for each column with numeric data.\n",
        "\n",
        "236. The index is used for the `X` axis, and all numeric columns are plotted on the `Y` axis.\n",
        "\n",
        "237. We can also see that `.plot()` pulls tick marks, tick labels, and axis titles from the underlying `dataframe`.\n",
        "\n",
        "238. Let's say we only wanted to plot Paris data.\n",
        "\n",
        "239. We can select that column in the `dataframe` before calling `.plot()`."
      ],
      "metadata": {
        "id": "IFuf7D5mXNqw"
      }
    },
    {
      "cell_type": "code",
      "source": [
        "air_quality[\"station_paris\"].plot()"
      ],
      "metadata": {
        "id": "sNwGb5JCXPF3"
      },
      "execution_count": null,
      "outputs": []
    },
    {
      "cell_type": "markdown",
      "source": [
        "240. We can plot a specific column in the `dataframe` using the `[\" \"]` selection method.\n",
        "\n",
        "241. Let's say we want to visually compare NO<sub>2</sub> values measured in London and Paris.\n",
        "\n",
        "242. We need to specify what column is going to be used for the `X` axis as well as what column is going to be used for the `Y` axis.\n",
        "\n",
        "243. For this example, a scatterplot will be more effective than a lineplot.\n",
        "\n",
        "244. We can create a scatterplot using `.plot.scatter()`."
      ],
      "metadata": {
        "id": "1hLYwA9iXQLk"
      }
    },
    {
      "cell_type": "code",
      "source": [
        "air_quality.plot.scatter(x=\"station_london\", y=\"station_paris\", alpha=0.5)"
      ],
      "metadata": {
        "id": "6kPNn_JjXSpn"
      },
      "execution_count": null,
      "outputs": []
    },
    {
      "cell_type": "markdown",
      "source": [
        "245. This example generates a scatterplot with London data on the `X` axis and Paris data on the `Y` axis.\n",
        "\n",
        "246. While the default for `.plot()` is a lineplot, there are a number of other methods we can use with `.plot()`.\n",
        "\n",
        "247. Again, you will see some overlap with `matplotlib` syntax.\n",
        "\n",
        "248. We can use these strings as as method in combination with `.plot()` or we can pass them to `.plot()` as a `kind` parameter.\n",
        "\n",
        "Plot Type | Method Syntax | Parameter Syntax\n",
        "--- | --- | ---\n",
        "Default (line) | `.plot()` | NA\n",
        "Area | `.plot.area()` | `.plot(kind='area')`\n",
        "Bar | `.plot.bar()` | `.plot(kind='bar')`\n",
        "Horizontal bar | `.plot.barh()` | `.plot(kind='barh')`\n",
        "Box | `.plot.box()` | `.plot(kind='box')`\n",
        "Density | `.plot.density()` | `.plot(kind='density')`\n",
        "Hexbin | `.plot.hexbin()` | `.plot(kind='hexbin')`\n",
        "Histogram | `.plot.hist()` | `.plot(kind='hist')`\n",
        "Kernel density | `.plot.kde()` | `.plot(kind='hist')`\n",
        "Line | `.plot.line()` | `.plot(kind='line')` *this would be redundant since the default for `.plot()` is line*\n",
        "Pie | `.plot.pie()` | `.plot(kind='pie')`\n",
        "Scatter | `.plot.scatter()` | `.plot(kind='scatter')`\n",
        "\n",
        "249. In general, it's more effective to use the method syntax to note plot type, rather than treating plot type as a parameter.\n",
        "\n",
        "250. Let's create a box plot using our air quality data."
      ],
      "metadata": {
        "id": "hNZ0Xr0DXUgo"
      }
    },
    {
      "cell_type": "code",
      "source": [
        "air_quality.plot.box()"
      ],
      "metadata": {
        "id": "2q7r_GyMXVC-"
      },
      "execution_count": null,
      "outputs": []
    },
    {
      "cell_type": "markdown",
      "source": [
        "251. We can see each numeric column (each station) has its own box in the default boxplot.\n",
        "\n",
        "252. Let's say we wanted to generate a lineplot with separate subplots for each of the numeric columns.\n",
        "\n",
        "253. We can accomplish this by setting the `subplots` parameter to `True`."
      ],
      "metadata": {
        "id": "QlR50iS5XWfc"
      }
    },
    {
      "cell_type": "code",
      "source": [
        "axs = air_quality.plot.area(figsize=(12, 4), subplots=True)"
      ],
      "metadata": {
        "id": "rf2d60HBXXeI"
      },
      "execution_count": null,
      "outputs": []
    },
    {
      "cell_type": "markdown",
      "source": [
        "254. Let's say we want to further customize this plot.\n",
        "\n",
        "255. This is where we start to see more `matplotlib` syntax in play."
      ],
      "metadata": {
        "id": "bO4Ur55RXZAT"
      }
    },
    {
      "cell_type": "code",
      "source": [
        "# create figure and axes\n",
        "fig, axs = plt.subplots(figsize=(12, 4))\n",
        "\n",
        "# build area plot\n",
        "air_quality.plot.area(ax=axs)\n",
        "\n",
        "# set y axis label\n",
        "axs.set_ylabel(\"NO$_2$ concentration\")\n",
        "\n",
        "# save plot as png file\n",
        "fig.savefig(\"no2_concentrations.png\")"
      ],
      "metadata": {
        "id": "4shRWt4CXaNh"
      },
      "execution_count": null,
      "outputs": []
    },
    {
      "cell_type": "markdown",
      "source": [
        "256. Each plot object created by `pandas` is also a `matplotlib` object.\n",
        "\n",
        "257. Having a deep knowledge of `matplotlib` allows you to customize plots generated using `pandas` `.plot()` function.\n",
        "\n",
        "258. That said, there are some parameters you can set as part of `.plot()` without having to have separate `matplotlib` syntax commands.\n",
        "\n",
        "259. The plot `kind` is one parameter option, as is the `dataframe`, `X` axis data, and `Y` axis data.\n",
        "\n",
        "260. Other parameters:\n",
        "\n",
        "Parameter | Explanation\n",
        "--- | ---\n",
        "`ax` | `matplotlib` `axes` object; axes for the current figure\n",
        "`subplots` | Default is `False`; set to `True` to enable multiple plots in the same figure\n",
        "`layout` | Follows `(rows, columns)` syntax to set subplot layout\n",
        "`figsize` | Follows `(width, height)` syntax; Sets figure object width and height in inches\n",
        "`use_Index` | Default is `True`; uses dataframe index as ticks for `X` axis\n",
        "`title` | Title to use for the plot; can take a list with titles for corresponding subplots\n",
        "`grid` | Default is `False`; set to `True` to show axis grid lines\n",
        "`legend` | Places legend on axis subplot\n",
        "`xticks` | Values to use for `X` axis ticks\n",
        "`yticks` | Values to use for `Y` axis ticks\n",
        "`xlim` | Follows `(lower limit, upper limit)` syntax; Sets `X` axis limits\n",
        "`ylim` | Follows `(lower limit, upper limit)` syntax; Sets `Y` axis limits\n",
        "`xlabel` | Label for `X` axis; default uses index column name\n",
        "`ylabel` | Label for `Y` axis; default uses `Y` column name\n",
        "`fontsize` | Sets font size for tickmarks\n",
        "`colormap` | Sets `matplotlib` colormap to select colors from\n",
        "`table` | Default is `False`; set to `True` to draw a table from data in the `DataFrame`\n",
        "`stacked` | Default is `False` in line and bar plots, `True` in area plot; if `True`, creates stacked plot\n",
        "\n",
        "261. For more parameters that can be passed to `.plot()`: [`pandas.DataFrame.plot`](https://pandas.pydata.org/pandas-docs/stable/reference/api/pandas.DataFrame.plot.html)\n",
        "\n",
        "<blockquote>Q8: Describe in your own words the core components of a matplotlib figure. What is the general sequence of steps involved in generating a matplotlib figure?</blockquote>\n",
        "\n",
        "# Lab Notebook Questions\n",
        "\n",
        "[Click here](https://colab.research.google.com/drive/1HPD6LuBSZjbyAZVwRMD-lBqwB2H3wwxM?usp=sharing) to access the lab notebook template as a Jupyter Notebook.\n",
        "\n",
        "Q1: Describe a DataFrame in your own words.\n",
        "\n",
        "Q2: Create your own small DataFrame. Write code that accomplishes the following tasks. Include code + comments.\n",
        "- Change the original column order\n",
        "- Select a specific column(s) using its index label or name attribute\n",
        "- Select a specific row(s) using its index label or index value\n",
        "- Remove a column from the DataFrame\n",
        "- Determine summary statistics for values in the DataFrame\n",
        "\n",
        "Q3: Write code that loads in a different data file as a DataFrame and accomplishes each of the following tasks. Include code + comments.\n",
        "- Shows the first five rows\n",
        "- Shows the last five rows\n",
        "- Checks the data types for each column\n",
        "- Returns a technical summary for the DataFrame\n",
        "\n",
        "Q4: Using the DataFrame you created for Q3, write code that executes AT LEAST FOUR of the following tasks. Include code + comments.\n",
        "- Sorts a column by ascending values\n",
        "- Sorts a column by descending values\n",
        "- Selects a specific column in the DataFrame\n",
        "- Creates a new DataFrame with select columns from existing DataFrame\n",
        "- Uses a comparison operator to filter rows in the DataFrame\n",
        "- Uses an isin statement to filter rows in the DataFrame\n",
        "- Selects specific rows and columns\n",
        "- Removes duplicate rows\n",
        "\n",
        "Q5: Using the titanic dataset (or another dataset), write code that calculates at least 3 unique summary statistics (.agg() counts as one). Include code + comments for each.\n",
        "\n",
        "Q6: Describe element-wise calculation in your own words.\n",
        "\n",
        "Q7: Using the air quality data or another dataset, write code that generates a new column based on an existing column(s). Include code + comments.\n",
        "\n",
        "Q8: Describe in your own words the core components of a matplotlib figure. What is the general sequence of steps involved in generating a matplotlib figure?"
      ],
      "metadata": {
        "id": "I4Dxr9fzXcxJ"
      }
    }
  ]
}